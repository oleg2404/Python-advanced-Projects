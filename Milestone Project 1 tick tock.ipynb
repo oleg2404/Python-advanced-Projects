{
 "cells": [
  {
   "cell_type": "code",
   "execution_count": 8,
   "metadata": {},
   "outputs": [
    {
     "name": "stdout",
     "output_type": "stream",
     "text": [
      "X|X|X\n",
      "_____\n",
      "O|O|6\n",
      "_____\n",
      "7|8|9\n",
      "Goodbye\n"
     ]
    }
   ],
   "source": [
    "from IPython.display import clear_output\n",
    "\n",
    "def board(bd): # Prints board with inputs from game()\n",
    "    print(bd[\"1\"] + \"|\" + bd[\"2\"] + \"|\" + bd[\"3\"])\n",
    "    print(\"_____\")\n",
    "    print(bd[\"4\"] + \"|\" + bd[\"5\"] + \"|\" + bd[\"6\"])\n",
    "    print(\"_____\")\n",
    "    print(bd[\"7\"] + \"|\" + bd[\"8\"] + \"|\" + bd[\"9\"])\n",
    "    return \"\"\n",
    "\n",
    "def check_board(player,bd):# Checks the board for a winning status and return true or false\n",
    "        if bd[\"1\"] == bd[\"2\"] == bd[\"3\"] == player:\n",
    "            return True\n",
    "        if bd[\"1\"] == bd[\"5\"] == bd[\"9\"] == player:\n",
    "            return True\n",
    "        if bd[\"1\"] == bd[\"4\"] == bd[\"7\"] == player:\n",
    "            return True\n",
    "        if bd[\"2\"] == bd[\"5\"] == bd[\"8\"] == player:\n",
    "            return True\n",
    "        if bd[\"3\"] == bd[\"6\"] == bd[\"9\"] == player:\n",
    "            return True\n",
    "        if bd[\"3\"] == bd[\"5\"] == bd[\"7\"] == player:\n",
    "            return True\n",
    "        if bd[\"4\"] == bd[\"5\"] == bd[\"6\"] == player:\n",
    "            return True\n",
    "        if bd[\"7\"] == bd[\"8\"] == bd[\"9\"] == player:\n",
    "            return True\n",
    "        return False\n",
    "    \n",
    "def check_av(board,spot):#Checks if the spot is available on the board and return true or false\n",
    "    av = \"XO\"\n",
    "    if board[spot] in av:\n",
    "        return True\n",
    "\n",
    "\n",
    "def game(): #The game\n",
    "\n",
    "    bd = {\"1\":\"1\",\"2\":\"2\",\"3\":\"3\",\"4\":\"4\",\"5\":\"5\",\"6\":\"6\",\"7\":\"7\",\"8\":\"8\",\"9\":\"9\",} #The board dictionary\n",
    "    TURNS = 0 # counts the turns to 9\n",
    "    END = False #Boolean for game end status WIN/TIE\n",
    "\n",
    "    while TURNS < 9:\n",
    "            if TURNS % 2 == 0:\n",
    "                print(board(bd))\n",
    "                print(\"Player 1 Turn:\")\n",
    "                while True:\n",
    "                    choice = input(\"player 1\")\n",
    "                    if check_av(bd,choice):\n",
    "                        continue\n",
    "                    else:    \n",
    "                        bd[choice] = \"X\"\n",
    "                        break\n",
    "                \n",
    "                if check_board(\"X\",bd):\n",
    "                    END = True\n",
    "                    winner = \"1\"\n",
    "                    break\n",
    "                TURNS += 1\n",
    "                clear_output()\n",
    "            else:\n",
    "                print(board(bd))\n",
    "                print(\"Player 2 Turn:\")\n",
    "                while True:\n",
    "                    choice2 = input(\"player 2\")\n",
    "                    if check_av(bd,choice2):\n",
    "                        continue\n",
    "                    else:\n",
    "                        bd[choice2] = \"O\"\n",
    "                        break\n",
    "                if check_board(\"O\",bd):\n",
    "                    END = True\n",
    "                    winner = \"2\"\n",
    "                    break\n",
    "\n",
    "                TURNS += 1\n",
    "                clear_output()\n",
    "    clear_output()\n",
    "    print(board(bd))\n",
    "    if END == False:\n",
    "        st1 = input(\"play again? y/n\")\n",
    "        clear_output()\n",
    "        board(bd)\n",
    "        if st1 == \"y\":\n",
    "            clear_output()\n",
    "            game()\n",
    "        print(\"Goodbye\")\n",
    "\n",
    "    print(f\"player {winner} won\")\n",
    "    st2 = input(\"play again? y/n\")\n",
    "    clear_output()\n",
    "    board(bd)\n",
    "    if st2 == \"y\":\n",
    "        clear_output()\n",
    "        game()\n",
    "    print(\"Goodbye\")\n",
    "    \n",
    "\n",
    "game()\n",
    "        "
   ]
  },
  {
   "cell_type": "code",
   "execution_count": null,
   "metadata": {},
   "outputs": [],
   "source": [
    "oleg = input(\"plas\")"
   ]
  },
  {
   "cell_type": "code",
   "execution_count": 6,
   "metadata": {},
   "outputs": [
    {
     "data": {
      "text/plain": [
       "'sad'"
      ]
     },
     "execution_count": 6,
     "metadata": {},
     "output_type": "execute_result"
    }
   ],
   "source": [
    "oleg"
   ]
  },
  {
   "cell_type": "code",
   "execution_count": null,
   "metadata": {},
   "outputs": [],
   "source": []
  }
 ],
 "metadata": {
  "kernelspec": {
   "display_name": "Python 3",
   "language": "python",
   "name": "python3"
  },
  "language_info": {
   "codemirror_mode": {
    "name": "ipython",
    "version": 3
   },
   "file_extension": ".py",
   "mimetype": "text/x-python",
   "name": "python",
   "nbconvert_exporter": "python",
   "pygments_lexer": "ipython3",
   "version": "3.7.3"
  }
 },
 "nbformat": 4,
 "nbformat_minor": 2
}
