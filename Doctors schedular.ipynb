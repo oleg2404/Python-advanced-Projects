{
 "cells": [
  {
   "cell_type": "code",
   "execution_count": 33,
   "metadata": {},
   "outputs": [],
   "source": [
    "\n",
    "class Doctor:\n",
    "    def __init__(self,name,profession):\n",
    "        self.name = name\n",
    "        self.profession = profession\n",
    "        self.schedual = {\"08:00\":True,\"08:30\":True,\"09:00\":True,\"09:30\":True,\n",
    "                         \"10:00\":True,\"10:30\":True,\"11:00\":True,\"11:30\":True,\n",
    "                         \"12:00\":True,\"12:30\":True,\"13:00\":True,\"13:30\":True,\n",
    "                         \"14:00\":True,\"14:30\":True,\"15:00\":True,\"15:30\":True,}\n",
    "        \n",
    "    def print_available_schedual(self):\n",
    "        print(f\"These are the available times for Doctor {self.name}:\")\n",
    "        for time in self.schedual:\n",
    "            if self.schedual[time] == True:\n",
    "                print(time)\n",
    "                \n",
    "    def print_schedual(self):\n",
    "        print(f\"Appointments for Doctor {self.name}:\")\n",
    "        for time in self.schedual:\n",
    "            if self.schedual[time] == True:\n",
    "                print(f\"{time} : Available\")\n",
    "            else:\n",
    "                print(f\"{time} : {self.schedual[time]}\")\n",
    "                \n",
    "    def add_appointment(self,time,name):\n",
    "        if time in self.schedual:\n",
    "            if self.schedual[time] == True:\n",
    "                self.schedual[time] = name\n",
    "                return True\n",
    "            return False\n",
    "        else:\n",
    "            return False\n",
    "    \n",
    "    \n",
    "            "
   ]
  },
  {
   "cell_type": "code",
   "execution_count": null,
   "metadata": {},
   "outputs": [],
   "source": []
  },
  {
   "cell_type": "code",
   "execution_count": null,
   "metadata": {},
   "outputs": [],
   "source": []
  },
  {
   "cell_type": "code",
   "execution_count": null,
   "metadata": {},
   "outputs": [],
   "source": []
  }
 ],
 "metadata": {
  "kernelspec": {
   "display_name": "Python 3",
   "language": "python",
   "name": "python3"
  },
  "language_info": {
   "codemirror_mode": {
    "name": "ipython",
    "version": 3
   },
   "file_extension": ".py",
   "mimetype": "text/x-python",
   "name": "python",
   "nbconvert_exporter": "python",
   "pygments_lexer": "ipython3",
   "version": "3.7.3"
  }
 },
 "nbformat": 4,
 "nbformat_minor": 2
}
