{
 "cells": [
  {
   "cell_type": "code",
   "execution_count": 21,
   "metadata": {},
   "outputs": [],
   "source": [
    "from playsound import playsound\n",
    "import time\n",
    "\n",
    "def set_alarm():\n",
    "    hour = int(input(\"Hours? 00-23: \"))\n",
    "    minutes = int(input(\"Minutes? 00-59: \"))\n",
    "    seconds = 0\n",
    "    while True:\n",
    "        currect = time.strftime(\"%H:%M\")\n",
    "        if currect == f\"{hour}:{minutes}\":\n",
    "            break\n",
    "    playsound('1.mp3')\n"
   ]
  },
  {
   "cell_type": "code",
   "execution_count": 22,
   "metadata": {},
   "outputs": [
    {
     "name": "stdout",
     "output_type": "stream",
     "text": [
      "Hours 00-23: 19\n",
      "Minutes 00:59: 56\n"
     ]
    }
   ],
   "source": [
    "set_alarm()"
   ]
  },
  {
   "cell_type": "code",
   "execution_count": null,
   "metadata": {},
   "outputs": [],
   "source": []
  },
  {
   "cell_type": "code",
   "execution_count": null,
   "metadata": {},
   "outputs": [],
   "source": []
  }
 ],
 "metadata": {
  "kernelspec": {
   "display_name": "Python 3",
   "language": "python",
   "name": "python3"
  },
  "language_info": {
   "codemirror_mode": {
    "name": "ipython",
    "version": 3
   },
   "file_extension": ".py",
   "mimetype": "text/x-python",
   "name": "python",
   "nbconvert_exporter": "python",
   "pygments_lexer": "ipython3",
   "version": "3.7.3"
  }
 },
 "nbformat": 4,
 "nbformat_minor": 2
}
